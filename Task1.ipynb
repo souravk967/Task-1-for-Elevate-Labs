{
 "cells": [
  {
   "cell_type": "code",
   "execution_count": 6,
   "id": "6d2e58f3-e45d-4a02-a89f-7f9cca940fae",
   "metadata": {},
   "outputs": [
    {
     "name": "stdout",
     "output_type": "stream",
     "text": [
      "Requirement already satisfied: pandas in c:\\users\\alpha's\\appdata\\local\\programs\\python\\python313\\lib\\site-packages (2.3.2)\n",
      "Requirement already satisfied: numpy in c:\\users\\alpha's\\appdata\\local\\programs\\python\\python313\\lib\\site-packages (2.3.3)\n",
      "Requirement already satisfied: matplotlib in c:\\users\\alpha's\\appdata\\local\\programs\\python\\python313\\lib\\site-packages (3.10.6)\n",
      "Requirement already satisfied: seaborn in c:\\users\\alpha's\\appdata\\local\\programs\\python\\python313\\lib\\site-packages (0.13.2)\n",
      "Requirement already satisfied: python-dateutil>=2.8.2 in c:\\users\\alpha's\\appdata\\local\\programs\\python\\python313\\lib\\site-packages (from pandas) (2.9.0.post0)\n",
      "Requirement already satisfied: pytz>=2020.1 in c:\\users\\alpha's\\appdata\\local\\programs\\python\\python313\\lib\\site-packages (from pandas) (2025.2)\n",
      "Requirement already satisfied: tzdata>=2022.7 in c:\\users\\alpha's\\appdata\\local\\programs\\python\\python313\\lib\\site-packages (from pandas) (2025.2)\n",
      "Requirement already satisfied: contourpy>=1.0.1 in c:\\users\\alpha's\\appdata\\local\\programs\\python\\python313\\lib\\site-packages (from matplotlib) (1.3.3)\n",
      "Requirement already satisfied: cycler>=0.10 in c:\\users\\alpha's\\appdata\\local\\programs\\python\\python313\\lib\\site-packages (from matplotlib) (0.12.1)\n",
      "Requirement already satisfied: fonttools>=4.22.0 in c:\\users\\alpha's\\appdata\\local\\programs\\python\\python313\\lib\\site-packages (from matplotlib) (4.60.0)\n",
      "Requirement already satisfied: kiwisolver>=1.3.1 in c:\\users\\alpha's\\appdata\\local\\programs\\python\\python313\\lib\\site-packages (from matplotlib) (1.4.9)\n",
      "Requirement already satisfied: packaging>=20.0 in c:\\users\\alpha's\\appdata\\local\\programs\\python\\python313\\lib\\site-packages (from matplotlib) (25.0)\n",
      "Requirement already satisfied: pillow>=8 in c:\\users\\alpha's\\appdata\\local\\programs\\python\\python313\\lib\\site-packages (from matplotlib) (11.3.0)\n",
      "Requirement already satisfied: pyparsing>=2.3.1 in c:\\users\\alpha's\\appdata\\local\\programs\\python\\python313\\lib\\site-packages (from matplotlib) (3.2.5)\n",
      "Requirement already satisfied: six>=1.5 in c:\\users\\alpha's\\appdata\\local\\programs\\python\\python313\\lib\\site-packages (from python-dateutil>=2.8.2->pandas) (1.17.0)\n"
     ]
    }
   ],
   "source": [
    "!pip install pandas numpy matplotlib seaborn"
   ]
  },
  {
   "cell_type": "code",
   "execution_count": 9,
   "id": "b52e4483-6858-4f47-99a5-5f799ac854b6",
   "metadata": {},
   "outputs": [],
   "source": [
    "df = pd.read_csv(\"C:\\\\Users\\\\Alpha's\\\\OneDrive\\\\Desktop\\\\netflix_titles.csv\")"
   ]
  },
  {
   "cell_type": "code",
   "execution_count": 12,
   "id": "50ed1552-0738-44e7-af3a-a48dca21f97b",
   "metadata": {},
   "outputs": [
    {
     "name": "stdout",
     "output_type": "stream",
     "text": [
      "File loaded successfully \n"
     ]
    }
   ],
   "source": [
    "import os\n",
    "\n",
    "file_path = r\"C:\\Users\\Alpha's\\OneDrive\\Desktop\\netflix_titles.csv\"\n",
    "\n",
    "if os.path.exists(file_path):\n",
    "    df = pd.read_csv(file_path)\n",
    "    print(\"File loaded successfully \")\n",
    "else:\n",
    "    print(\" File not found. Please check the path again.\")"
   ]
  },
  {
   "cell_type": "code",
   "execution_count": 13,
   "id": "f43d5b62-8c12-4b54-ba61-6a09df212951",
   "metadata": {},
   "outputs": [
    {
     "name": "stdout",
     "output_type": "stream",
     "text": [
      "<class 'pandas.core.frame.DataFrame'>\n",
      "RangeIndex: 8807 entries, 0 to 8806\n",
      "Data columns (total 12 columns):\n",
      " #   Column        Non-Null Count  Dtype \n",
      "---  ------        --------------  ----- \n",
      " 0   show_id       8807 non-null   object\n",
      " 1   type          8807 non-null   object\n",
      " 2   title         8807 non-null   object\n",
      " 3   director      6173 non-null   object\n",
      " 4   cast          7982 non-null   object\n",
      " 5   country       7976 non-null   object\n",
      " 6   date_added    8797 non-null   object\n",
      " 7   release_year  8807 non-null   int64 \n",
      " 8   rating        8803 non-null   object\n",
      " 9   duration      8804 non-null   object\n",
      " 10  listed_in     8807 non-null   object\n",
      " 11  description   8807 non-null   object\n",
      "dtypes: int64(1), object(11)\n",
      "memory usage: 825.8+ KB\n"
     ]
    },
    {
     "data": {
      "text/plain": [
       "(8807, 12)"
      ]
     },
     "execution_count": 13,
     "metadata": {},
     "output_type": "execute_result"
    }
   ],
   "source": [
    "# Basic info about dataset\n",
    "df.info()\n",
    "\n",
    "# Summary statistics (for numeric and categorical)\n",
    "df.describe(include=\"all\")\n",
    "\n",
    "# First few rows\n",
    "df.head()\n",
    "\n",
    "# Check rows & columns\n",
    "df.shape"
   ]
  },
  {
   "cell_type": "code",
   "execution_count": 14,
   "id": "fc6675fd-1b43-4968-863a-53c8f69be459",
   "metadata": {},
   "outputs": [
    {
     "data": {
      "text/plain": [
       "show_id            0\n",
       "type               0\n",
       "title              0\n",
       "director        2634\n",
       "cast             825\n",
       "country          831\n",
       "date_added        10\n",
       "release_year       0\n",
       "rating             4\n",
       "duration           3\n",
       "listed_in          0\n",
       "description        0\n",
       "dtype: int64"
      ]
     },
     "execution_count": 14,
     "metadata": {},
     "output_type": "execute_result"
    }
   ],
   "source": [
    "# Missing values count\n",
    "df.isnull().sum()"
   ]
  },
  {
   "cell_type": "code",
   "execution_count": 29,
   "id": "150d761e-d122-452b-a652-e4286d087f66",
   "metadata": {},
   "outputs": [
    {
     "data": {
      "text/plain": [
       "show_id          0\n",
       "type             0\n",
       "title            0\n",
       "director         0\n",
       "cast             0\n",
       "country          0\n",
       "date_added      98\n",
       "release_year     0\n",
       "rating           0\n",
       "duration         3\n",
       "listed_in        0\n",
       "description      0\n",
       "dtype: int64"
      ]
     },
     "execution_count": 29,
     "metadata": {},
     "output_type": "execute_result"
    }
   ],
   "source": [
    "# Handling missing values\n",
    "df['director'] = df['director'].fillna('Unknown')\n",
    "df['cast'] = df['cast'].fillna('Unknown')\n",
    "df['country'] = df['country'].fillna(df['country'].mode()[0])\n",
    "df['rating'] = df['rating'].fillna('Unknown')\n",
    "df['date_added'] = pd.to_datetime(df['date_added'], errors='coerce')\n",
    "\n",
    "# Verify again\n",
    "df.isnull().sum()"
   ]
  },
  {
   "cell_type": "code",
   "execution_count": 30,
   "id": "0ce28905-711c-4fb5-a826-9a1fa4660468",
   "metadata": {},
   "outputs": [],
   "source": [
    "df['duration'] = df['duration'].fillna('Unknown')"
   ]
  },
  {
   "cell_type": "code",
   "execution_count": 31,
   "id": "1c0a470a-731b-4c4f-9a71-cdf15e731124",
   "metadata": {},
   "outputs": [
    {
     "data": {
      "text/plain": [
       "show_id         0\n",
       "type            0\n",
       "title           0\n",
       "director        0\n",
       "cast            0\n",
       "country         0\n",
       "date_added      0\n",
       "release_year    0\n",
       "rating          0\n",
       "duration        0\n",
       "listed_in       0\n",
       "description     0\n",
       "dtype: int64"
      ]
     },
     "execution_count": 31,
     "metadata": {},
     "output_type": "execute_result"
    }
   ],
   "source": [
    "# Drop missing 'date_added'\n",
    "df = df.dropna(subset=['date_added'])\n",
    "\n",
    "# Fill missing 'duration'\n",
    "df['duration'] = df['duration'].fillna('Unknown')\n",
    "\n",
    "# Verify again\n",
    "df.isnull().sum()"
   ]
  },
  {
   "cell_type": "code",
   "execution_count": 32,
   "id": "261a93c6-2f21-40ba-907e-dc7d98d08537",
   "metadata": {},
   "outputs": [
    {
     "name": "stdout",
     "output_type": "stream",
     "text": [
      "Duplicates before: 0\n",
      "Duplicates after: 0\n"
     ]
    }
   ],
   "source": [
    "print(\"Duplicates before:\", df.duplicated().sum())\n",
    "df = df.drop_duplicates()\n",
    "print(\"Duplicates after:\", df.duplicated().sum())"
   ]
  },
  {
   "cell_type": "code",
   "execution_count": 33,
   "id": "bcd60435-ebe3-4c66-aa3b-93a1345c4749",
   "metadata": {},
   "outputs": [
    {
     "data": {
      "text/html": [
       "<div>\n",
       "<style scoped>\n",
       "    .dataframe tbody tr th:only-of-type {\n",
       "        vertical-align: middle;\n",
       "    }\n",
       "\n",
       "    .dataframe tbody tr th {\n",
       "        vertical-align: top;\n",
       "    }\n",
       "\n",
       "    .dataframe thead th {\n",
       "        text-align: right;\n",
       "    }\n",
       "</style>\n",
       "<table border=\"1\" class=\"dataframe\">\n",
       "  <thead>\n",
       "    <tr style=\"text-align: right;\">\n",
       "      <th></th>\n",
       "      <th>title</th>\n",
       "      <th>type</th>\n",
       "      <th>country</th>\n",
       "      <th>listed_in</th>\n",
       "    </tr>\n",
       "  </thead>\n",
       "  <tbody>\n",
       "    <tr>\n",
       "      <th>0</th>\n",
       "      <td>dick johnson is dead</td>\n",
       "      <td>movie</td>\n",
       "      <td>United States</td>\n",
       "      <td>documentaries</td>\n",
       "    </tr>\n",
       "    <tr>\n",
       "      <th>1</th>\n",
       "      <td>blood &amp; water</td>\n",
       "      <td>tv show</td>\n",
       "      <td>South Africa</td>\n",
       "      <td>international tv shows, tv dramas, tv mysteries</td>\n",
       "    </tr>\n",
       "    <tr>\n",
       "      <th>2</th>\n",
       "      <td>ganglands</td>\n",
       "      <td>tv show</td>\n",
       "      <td>United States</td>\n",
       "      <td>crime tv shows, international tv shows, tv act...</td>\n",
       "    </tr>\n",
       "    <tr>\n",
       "      <th>3</th>\n",
       "      <td>jailbirds new orleans</td>\n",
       "      <td>tv show</td>\n",
       "      <td>United States</td>\n",
       "      <td>docuseries, reality tv</td>\n",
       "    </tr>\n",
       "    <tr>\n",
       "      <th>4</th>\n",
       "      <td>kota factory</td>\n",
       "      <td>tv show</td>\n",
       "      <td>India</td>\n",
       "      <td>international tv shows, romantic tv shows, tv ...</td>\n",
       "    </tr>\n",
       "    <tr>\n",
       "      <th>5</th>\n",
       "      <td>midnight mass</td>\n",
       "      <td>tv show</td>\n",
       "      <td>United States</td>\n",
       "      <td>tv dramas, tv horror, tv mysteries</td>\n",
       "    </tr>\n",
       "    <tr>\n",
       "      <th>6</th>\n",
       "      <td>my little pony: a new generation</td>\n",
       "      <td>movie</td>\n",
       "      <td>United States</td>\n",
       "      <td>children &amp; family movies</td>\n",
       "    </tr>\n",
       "    <tr>\n",
       "      <th>7</th>\n",
       "      <td>sankofa</td>\n",
       "      <td>movie</td>\n",
       "      <td>United States, Ghana, Burkina Faso, United Kin...</td>\n",
       "      <td>dramas, independent movies, international movies</td>\n",
       "    </tr>\n",
       "    <tr>\n",
       "      <th>8</th>\n",
       "      <td>the great british baking show</td>\n",
       "      <td>tv show</td>\n",
       "      <td>United Kingdom</td>\n",
       "      <td>british tv shows, reality tv</td>\n",
       "    </tr>\n",
       "    <tr>\n",
       "      <th>9</th>\n",
       "      <td>the starling</td>\n",
       "      <td>movie</td>\n",
       "      <td>United States</td>\n",
       "      <td>comedies, dramas</td>\n",
       "    </tr>\n",
       "  </tbody>\n",
       "</table>\n",
       "</div>"
      ],
      "text/plain": [
       "                              title     type  \\\n",
       "0              dick johnson is dead    movie   \n",
       "1                     blood & water  tv show   \n",
       "2                         ganglands  tv show   \n",
       "3             jailbirds new orleans  tv show   \n",
       "4                      kota factory  tv show   \n",
       "5                     midnight mass  tv show   \n",
       "6  my little pony: a new generation    movie   \n",
       "7                           sankofa    movie   \n",
       "8     the great british baking show  tv show   \n",
       "9                      the starling    movie   \n",
       "\n",
       "                                             country  \\\n",
       "0                                      United States   \n",
       "1                                       South Africa   \n",
       "2                                      United States   \n",
       "3                                      United States   \n",
       "4                                              India   \n",
       "5                                      United States   \n",
       "6                                      United States   \n",
       "7  United States, Ghana, Burkina Faso, United Kin...   \n",
       "8                                     United Kingdom   \n",
       "9                                      United States   \n",
       "\n",
       "                                           listed_in  \n",
       "0                                      documentaries  \n",
       "1    international tv shows, tv dramas, tv mysteries  \n",
       "2  crime tv shows, international tv shows, tv act...  \n",
       "3                             docuseries, reality tv  \n",
       "4  international tv shows, romantic tv shows, tv ...  \n",
       "5                 tv dramas, tv horror, tv mysteries  \n",
       "6                           children & family movies  \n",
       "7   dramas, independent movies, international movies  \n",
       "8                       british tv shows, reality tv  \n",
       "9                                   comedies, dramas  "
      ]
     },
     "execution_count": 33,
     "metadata": {},
     "output_type": "execute_result"
    }
   ],
   "source": [
    "# Convert text columns to lowercase & remove spaces\n",
    "df['title'] = df['title'].str.lower().str.strip()\n",
    "df['type'] = df['type'].str.lower()\n",
    "df['listed_in'] = df['listed_in'].str.lower()\n",
    "\n",
    "# Make countries look consistent (e.g., UsA -> Usa -> United States etc.)\n",
    "df['country'] = df['country'].str.title()\n",
    "\n",
    "# Quick preview\n",
    "df[['title','type','country','listed_in']].head(10)"
   ]
  },
  {
   "cell_type": "code",
   "execution_count": 34,
   "id": "f6fd51ed-39f6-4353-a298-7de169f39fc5",
   "metadata": {},
   "outputs": [
    {
     "name": "stdout",
     "output_type": "stream",
     "text": [
      "Index(['show_id', 'type', 'title', 'director', 'cast', 'country', 'date_added',\n",
      "       'release_year', 'rating', 'duration', 'listed_in', 'description'],\n",
      "      dtype='object')\n"
     ]
    }
   ],
   "source": [
    "# Rename columns: lowercase + underscores instead of spaces\n",
    "df.columns = df.columns.str.lower().str.replace(' ', '_')\n",
    "\n",
    "# Verify updated column names\n",
    "print(df.columns)"
   ]
  },
  {
   "cell_type": "code",
   "execution_count": 35,
   "id": "734006f8-37b2-4f92-ae9d-9851731f305a",
   "metadata": {},
   "outputs": [
    {
     "name": "stdout",
     "output_type": "stream",
     "text": [
      "show_id                 object\n",
      "type                    object\n",
      "title                   object\n",
      "director                object\n",
      "cast                    object\n",
      "country                 object\n",
      "date_added      datetime64[ns]\n",
      "release_year             int64\n",
      "rating                  object\n",
      "duration                object\n",
      "listed_in               object\n",
      "description             object\n",
      "dtype: object\n"
     ]
    }
   ],
   "source": [
    "# Fix datatypes\n",
    "df['release_year'] = df['release_year'].astype(int)\n",
    "\n",
    "# Verify datatypes\n",
    "print(df.dtypes)"
   ]
  },
  {
   "cell_type": "code",
   "execution_count": 36,
   "id": "ff6fafd9-3585-4cd5-a70d-f606c97cb9a5",
   "metadata": {},
   "outputs": [
    {
     "name": "stdout",
     "output_type": "stream",
     "text": [
      "Cleaned dataset saved as netflix_titles_clean.csv\n"
     ]
    }
   ],
   "source": [
    "# Save the cleaned dataset\n",
    "df.to_csv(\"netflix_titles_clean.csv\", index=False)\n",
    "print(\"Cleaned dataset saved as netflix_titles_clean.csv\")"
   ]
  },
  {
   "cell_type": "code",
   "execution_count": 37,
   "id": "d359a80b-d9c3-4ce5-909c-86dce4be8928",
   "metadata": {},
   "outputs": [
    {
     "data": {
      "text/html": [
       "<div>\n",
       "<style scoped>\n",
       "    .dataframe tbody tr th:only-of-type {\n",
       "        vertical-align: middle;\n",
       "    }\n",
       "\n",
       "    .dataframe tbody tr th {\n",
       "        vertical-align: top;\n",
       "    }\n",
       "\n",
       "    .dataframe thead th {\n",
       "        text-align: right;\n",
       "    }\n",
       "</style>\n",
       "<table border=\"1\" class=\"dataframe\">\n",
       "  <thead>\n",
       "    <tr style=\"text-align: right;\">\n",
       "      <th></th>\n",
       "      <th>date_added</th>\n",
       "    </tr>\n",
       "  </thead>\n",
       "  <tbody>\n",
       "    <tr>\n",
       "      <th>0</th>\n",
       "      <td>25-09-2021</td>\n",
       "    </tr>\n",
       "    <tr>\n",
       "      <th>1</th>\n",
       "      <td>24-09-2021</td>\n",
       "    </tr>\n",
       "    <tr>\n",
       "      <th>2</th>\n",
       "      <td>24-09-2021</td>\n",
       "    </tr>\n",
       "    <tr>\n",
       "      <th>3</th>\n",
       "      <td>24-09-2021</td>\n",
       "    </tr>\n",
       "    <tr>\n",
       "      <th>4</th>\n",
       "      <td>24-09-2021</td>\n",
       "    </tr>\n",
       "    <tr>\n",
       "      <th>5</th>\n",
       "      <td>24-09-2021</td>\n",
       "    </tr>\n",
       "    <tr>\n",
       "      <th>6</th>\n",
       "      <td>24-09-2021</td>\n",
       "    </tr>\n",
       "    <tr>\n",
       "      <th>7</th>\n",
       "      <td>24-09-2021</td>\n",
       "    </tr>\n",
       "    <tr>\n",
       "      <th>8</th>\n",
       "      <td>24-09-2021</td>\n",
       "    </tr>\n",
       "    <tr>\n",
       "      <th>9</th>\n",
       "      <td>24-09-2021</td>\n",
       "    </tr>\n",
       "  </tbody>\n",
       "</table>\n",
       "</div>"
      ],
      "text/plain": [
       "   date_added\n",
       "0  25-09-2021\n",
       "1  24-09-2021\n",
       "2  24-09-2021\n",
       "3  24-09-2021\n",
       "4  24-09-2021\n",
       "5  24-09-2021\n",
       "6  24-09-2021\n",
       "7  24-09-2021\n",
       "8  24-09-2021\n",
       "9  24-09-2021"
      ]
     },
     "execution_count": 37,
     "metadata": {},
     "output_type": "execute_result"
    }
   ],
   "source": [
    "# Convert 'date_added' to dd-mm-yyyy format\n",
    "df['date_added'] = df['date_added'].dt.strftime('%d-%m-%Y')\n",
    "\n",
    "# Preview the column\n",
    "df[['date_added']].head(10)"
   ]
  },
  {
   "cell_type": "code",
   "execution_count": 39,
   "id": "0f2bc126-d713-4b5f-9e4d-61fe5cc2dab2",
   "metadata": {},
   "outputs": [
    {
     "name": "stdout",
     "output_type": "stream",
     "text": [
      " Cleaned dataset saved to Desktop\n"
     ]
    }
   ],
   "source": [
    "df.to_csv(r\"C:\\Users\\Alpha's\\OneDrive\\Desktop\\netflix_titles_clean.csv\", index=False)\n",
    "print(\" Cleaned dataset saved to Desktop\")"
   ]
  },
  {
   "cell_type": "code",
   "execution_count": null,
   "id": "8c2521c9-2ccb-4a68-866d-73f656e1c124",
   "metadata": {},
   "outputs": [],
   "source": []
  }
 ],
 "metadata": {
  "kernelspec": {
   "display_name": "Python 3 (ipykernel)",
   "language": "python",
   "name": "python3"
  },
  "language_info": {
   "codemirror_mode": {
    "name": "ipython",
    "version": 3
   },
   "file_extension": ".py",
   "mimetype": "text/x-python",
   "name": "python",
   "nbconvert_exporter": "python",
   "pygments_lexer": "ipython3",
   "version": "3.13.7"
  }
 },
 "nbformat": 4,
 "nbformat_minor": 5
}
